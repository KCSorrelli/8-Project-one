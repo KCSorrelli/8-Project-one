{
 "cells": [
  {
   "cell_type": "code",
   "execution_count": 22,
   "metadata": {},
   "outputs": [],
   "source": [
    "import numpy as np\n",
    "import pandas as pd\n",
    "import csv\n",
    "\n",
    "import logging\n",
    "\n",
    "import matplotlib.pyplot as plt\n",
    "import requests\n",
    "import json\n",
    "\n",
    "import locale # to format currency as USD\n",
    "locale.setlocale( locale.LC_ALL, '' )\n",
    "\n",
    "pd.core.common.is_list_like = pd.api.types.is_list_like\n",
    "from pandas_datareader import data\n",
    "from pprint import pprint\n",
    "\n",
    "from config import api_key"
   ]
  },
  {
   "cell_type": "code",
   "execution_count": null,
   "metadata": {},
   "outputs": [],
   "source": [
    "#response = requests.get('https://api.themoviedb.org/3/discover/movie?api_key=' \n",
    "                        #+  api_key + '&primary_release_year=1970?&sort_by=revenue.desc')\n",
    "                       # +  api_key + '&primary_release_year=for_range_in_year?&sort_by=revenue.desc')\n",
    "#response"
   ]
  },
  {
   "cell_type": "code",
   "execution_count": 34,
   "metadata": {},
   "outputs": [
    {
     "data": {
      "text/html": [
       "<div>\n",
       "<style scoped>\n",
       "    .dataframe tbody tr th:only-of-type {\n",
       "        vertical-align: middle;\n",
       "    }\n",
       "\n",
       "    .dataframe tbody tr th {\n",
       "        vertical-align: top;\n",
       "    }\n",
       "\n",
       "    .dataframe thead th {\n",
       "        text-align: right;\n",
       "    }\n",
       "</style>\n",
       "<table border=\"1\" class=\"dataframe\">\n",
       "  <thead>\n",
       "    <tr style=\"text-align: right;\">\n",
       "      <th></th>\n",
       "      <th>1970</th>\n",
       "      <th>1980</th>\n",
       "    </tr>\n",
       "  </thead>\n",
       "  <tbody>\n",
       "    <tr>\n",
       "      <th>0</th>\n",
       "      <td>9062</td>\n",
       "      <td>1891</td>\n",
       "    </tr>\n",
       "    <tr>\n",
       "      <th>1</th>\n",
       "      <td>10671</td>\n",
       "      <td>8536</td>\n",
       "    </tr>\n",
       "    <tr>\n",
       "      <th>2</th>\n",
       "      <td>11202</td>\n",
       "      <td>525</td>\n",
       "    </tr>\n",
       "    <tr>\n",
       "      <th>3</th>\n",
       "      <td>651</td>\n",
       "      <td>21629</td>\n",
       "    </tr>\n",
       "    <tr>\n",
       "      <th>4</th>\n",
       "      <td>10112</td>\n",
       "      <td>813</td>\n",
       "    </tr>\n",
       "  </tbody>\n",
       "</table>\n",
       "</div>"
      ],
      "text/plain": [
       "    1970   1980\n",
       "0   9062   1891\n",
       "1  10671   8536\n",
       "2  11202    525\n",
       "3    651  21629\n",
       "4  10112    813"
      ]
     },
     "execution_count": 34,
     "metadata": {},
     "output_type": "execute_result"
    }
   ],
   "source": [
    "year_df = pd.DataFrame()\n",
    "decade_df = pd.DataFrame()\n",
    "\n",
    "for year in range(1970,1990): \n",
    "    response = requests.get('https://api.themoviedb.org/3/discover/movie?api_key=' \n",
    "                            +  api_key + '&primary_release_year=' \n",
    "                            + str(year) + '&sort_by=revenue.desc&language=en-US')\n",
    "                           \n",
    "    #store parsed json response\n",
    "    highest_revenue = response.json() \n",
    "\n",
    "    # highest_revenue\n",
    "    highest_revenue_films = highest_revenue['results']\n",
    "\n",
    "    data_df = pd.DataFrame(highest_revenue_films)\n",
    "    \n",
    "    year_df[str(year)] = data_df['id']\n",
    "    \n",
    "\n",
    "for x in range(0,2):    \n",
    "    decade_list = []\n",
    "    for year in range(1970+(x*10),1980+(x*10)):\n",
    "        decade_list.append(year_df[str(year)])\n",
    "    flat_decade_list = [item for x in decade_list for item in x]\n",
    "    decade_df[str(year-9)] = flat_decade_list\n",
    "\n",
    "decade_df.head()\n",
    "    #     # define column names for our new dataframe\n",
    "#     columns = ['id', 'revenue', 'year']\n",
    "\n",
    "#     # create dataframe with film and revenue columns\n",
    "#     df = pd.DataFrame(columns=columns)  \n",
    "# df.head()"
   ]
  },
  {
   "cell_type": "code",
   "execution_count": 35,
   "metadata": {},
   "outputs": [
    {
     "data": {
      "text/plain": [
       "0      1891\n",
       "1      8536\n",
       "2       525\n",
       "3     21629\n",
       "4       813\n",
       "5     17169\n",
       "6     16769\n",
       "7     12705\n",
       "8      8393\n",
       "9      4488\n",
       "10     5689\n",
       "11      694\n",
       "12    28124\n",
       "13    13612\n",
       "14    11977\n",
       "15     1623\n",
       "16    11033\n",
       "17     3604\n",
       "18     1955\n",
       "19     1578\n",
       "Name: 1980, dtype: int64"
      ]
     },
     "execution_count": 35,
     "metadata": {},
     "output_type": "execute_result"
    }
   ],
   "source": [
    "decade_list[0]"
   ]
  },
  {
   "cell_type": "code",
   "execution_count": null,
   "metadata": {
    "scrolled": true
   },
   "outputs": [],
   "source": [
    "    #for film in highest_revenue_films:\n",
    "#         film_revenue = requests.get('https://api.themoviedb.org/3/discover/movie?' + str(film['id']) +'?api_key='+ api_key+'&language=en-US')\n",
    "#         film_revenue = film_revenue.json()\n",
    "#         #pprint(film_revenue)\n",
    "#         mylist = ([df], [film_revenue])\n",
    "#         print(mylist)\n",
    "#         ict_df = pd.DataFrame([ pd.Series(value) for value in mylist ])\n",
    "#         print(locale.currency(film_revenue['revenue'], grouping=True ))\n",
    "#         print(film_revenue)\n",
    "#         df.loc[len(df)]=[film['id'],film_revenue['revenue'],film['release_date']] # store title and revenue in our dataframe \n",
    "#         #print(df)\n",
    "# #data_df.head()"
   ]
  },
  {
   "cell_type": "code",
   "execution_count": null,
   "metadata": {},
   "outputs": [],
   "source": [
    "# store parsed json response\n",
    "#highest_revenue = response.json() \n",
    "\n",
    "# highest_revenue\n",
    "#highest_revenue_films = highest_revenue['results']\n",
    "\n",
    "#highest_revenue_films"
   ]
  },
  {
   "cell_type": "code",
   "execution_count": null,
   "metadata": {},
   "outputs": [],
   "source": [
    "#data_df = pd.DataFrame(highest_revenue_films)\n",
    "#data_df.head()"
   ]
  },
  {
   "cell_type": "code",
   "execution_count": null,
   "metadata": {},
   "outputs": [],
   "source": [
    "# define column names for our new dataframe\n",
    "#columns = ['id', 'revenue', 'year']\n",
    "\n",
    "# create dataframe with film and revenue columns\n",
    "#df = pd.DataFrame(columns=columns)\n",
    "#df.head()"
   ]
  },
  {
   "cell_type": "code",
   "execution_count": 33,
   "metadata": {
    "scrolled": true
   },
   "outputs": [],
   "source": [
    "# for film in highest_revenue_films:\n",
    "#     # print(film['title'])\n",
    "#     film_revenue = requests.get('https://api.themoviedb.org/3/movie/'+ str(film['id']) +'?api_key='+ api_key+'&language=en-US')\n",
    "#     film_revenue = film_revenue.json()\n",
    "#     mylist = [[df], [film_revenue]]\n",
    "#     ict_df = pd.DataFrame([ pd.Series(value) for value in mylist ])\n",
    "#     print(locale.currency(film_revenue['revenue'], grouping=True ))\n",
    "#     df.loc[len(df)]=[film['id'],film_revenue['revenue'],film['release_date']] # store title and revenue in our dataframe \n",
    "    \n",
    "#     print(df)   "
   ]
  },
  {
   "cell_type": "code",
   "execution_count": null,
   "metadata": {},
   "outputs": [],
   "source": [
    "    data = pd.DataFrame(df)  \n",
    "    data.sort_values(by=['year'])"
   ]
  },
  {
   "cell_type": "code",
   "execution_count": null,
   "metadata": {
    "scrolled": true
   },
   "outputs": [],
   "source": [
    "data_df"
   ]
  }
 ],
 "metadata": {
  "kernelspec": {
   "display_name": "Python 3",
   "language": "python",
   "name": "python3"
  },
  "language_info": {
   "codemirror_mode": {
    "name": "ipython",
    "version": 3
   },
   "file_extension": ".py",
   "mimetype": "text/x-python",
   "name": "python",
   "nbconvert_exporter": "python",
   "pygments_lexer": "ipython3",
   "version": "3.6.5"
  }
 },
 "nbformat": 4,
 "nbformat_minor": 2
}
